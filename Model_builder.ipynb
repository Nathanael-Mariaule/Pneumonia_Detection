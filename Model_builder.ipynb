{
 "cells": [
  {
   "cell_type": "markdown",
   "id": "4bb4639a",
   "metadata": {},
   "source": [
    "# Pneumonia Detection"
   ]
  },
  {
   "cell_type": "markdown",
   "id": "a3f880c2",
   "metadata": {},
   "source": [
    "## Loading of the data and preprocessing"
   ]
  },
  {
   "cell_type": "code",
   "execution_count": 1,
   "id": "b62dd238",
   "metadata": {},
   "outputs": [],
   "source": [
    "import cv2 as cv\n",
    "import numpy as np\n",
    "import tensorflow as tf\n",
    "\n",
    "from tensorflow.keras.applications.xception import preprocess_input\n",
    "import numpy as np\n",
    "import os\n",
    "import random\n",
    "\n",
    "def preprocessing(filepath, img_size=(299,299), n_channel=3):\n",
    "    img = cv.imread(filepath)\n",
    "    img = cv.resize(img, img_size, interpolation = cv.INTER_AREA)\n",
    "    img = cv.cvtColor(img, cv.COLOR_BGR2GRAY)   \n",
    "    img = img/255\n",
    "    img = np.reshape(img, (img_size[0],img_size[1],1))\n",
    "    return img\n",
    "\n",
    "\n",
    "\n",
    "\n",
    "\n",
    "\n",
    "def data_label_builder(normal_path, pneumonia_path,img_size=(299,299)):\n",
    "    normal = [preprocessing(f'{normal_path}/{file}', img_size=img_size) for file in os.listdir(normal_path)]\n",
    "    pneumonia = [preprocessing(f'{pneumonia_path}/{file}', img_size=img_size) for file in os.listdir(pneumonia_path)]\n",
    "    normal_labels = np.tile(1, len(normal))\n",
    "    pneumonia_labels = np.tile(0, len(pneumonia))\n",
    "    X = np.concatenate([normal, pneumonia])\n",
    "    #X = np.expand_dims(X, axis=-1)\n",
    "    y = np.concatenate([normal_labels, pneumonia_labels])\n",
    "    return X, y"
   ]
  },
  {
   "cell_type": "code",
   "execution_count": 2,
   "id": "749ac378",
   "metadata": {},
   "outputs": [],
   "source": [
    "\n",
    "#physical_devices = tf.config.list_physical_devices('CPU') \n",
    "physical_devices = tf.config.list_physical_devices('GPU') \n",
    "tf.config.experimental.set_memory_growth(physical_devices[0], True)\n",
    "im_size = (150,150)\n",
    "\n",
    "normal_train = 'chest_xray/train/NORMAL'\n",
    "pneumonia_train = 'chest_xray/train/PNEUMONIA'\n",
    "\n",
    "normal_test = 'chest_xray/test/NORMAL'\n",
    "pneumonia_test = 'chest_xray/test/PNEUMONIA'\n",
    "\n",
    "\n",
    "X_train, y_train = data_label_builder(normal_train, pneumonia_train, img_size=im_size)\n",
    "X_test, y_test = data_label_builder(normal_test, pneumonia_test, img_size=im_size)"
   ]
  },
  {
   "cell_type": "code",
   "execution_count": 3,
   "id": "190fef78",
   "metadata": {},
   "outputs": [
    {
     "data": {
      "text/plain": [
       "((5216, 150, 150, 1), (5216,), (624, 150, 150, 1), (624,))"
      ]
     },
     "execution_count": 3,
     "metadata": {},
     "output_type": "execute_result"
    }
   ],
   "source": [
    "X_train.shape, y_train.shape, X_test.shape, y_test.shape"
   ]
  },
  {
   "cell_type": "code",
   "execution_count": 4,
   "id": "85782690",
   "metadata": {},
   "outputs": [],
   "source": [
    "from sklearn.model_selection import train_test_split\n",
    "\n",
    "\n",
    "X_train, X_val, y_train, y_val = train_test_split(\n",
    "    X_train, \n",
    "    y_train,\n",
    "    test_size=0.2, \n",
    "    random_state=42, \n",
    "    shuffle=True\n",
    ")"
   ]
  },
  {
   "cell_type": "code",
   "execution_count": 105,
   "id": "1defdfe5",
   "metadata": {},
   "outputs": [
    {
     "name": "stdout",
     "output_type": "stream",
     "text": [
      "Weight for class 0: 0.67\n",
      "Weight for class 1: 1.98\n"
     ]
    }
   ],
   "source": [
    "# Scaling by total/2 helps keep the loss to a similar magnitude.\n",
    "# The sum of the weights of all examples stays the same.\n",
    "total = len(y_train)\n",
    "pos = sum(y_train)\n",
    "neg = total-pos\n",
    "weight_for_0 = (1 / neg) * (total / 2.0)\n",
    "weight_for_1 = (1 / pos) * (total / 2.0)\n",
    "\n",
    "class_weight = {0: weight_for_0, 1: weight_for_1}\n",
    "\n",
    "print('Weight for class 0: {:.2f}'.format(weight_for_0))\n",
    "print('Weight for class 1: {:.2f}'.format(weight_for_1))"
   ]
  },
  {
   "cell_type": "code",
   "execution_count": 5,
   "id": "e46058fe",
   "metadata": {},
   "outputs": [],
   "source": [
    "from keras.preprocessing.image import ImageDataGenerator\n",
    "\n",
    "datagen_batch_size = 16\n",
    "\n",
    "datagen = ImageDataGenerator(rotation_range=20,\n",
    "                                    width_shift_range=0.2,\n",
    "                                    height_shift_range=0.2,\n",
    "                                    zoom_range=0.2,\n",
    "                                    horizontal_flip=True)\n",
    "\n",
    "train_generator = datagen.flow(X_train, y_train, batch_size=datagen_batch_size)\n",
    "train_dataset = tf.data.Dataset.from_generator(lambda: map(tuple,train_generator),(tf.float32, tf.float32))\n",
    "\n",
    "\n",
    "\n",
    "validation_generator = datagen.flow(X_val, y_val, batch_size=datagen_batch_size)\n",
    "validation_dataset = tf.data.Dataset.from_generator(lambda: map(tuple,validation_generator),(tf.float32, tf.float32))\n"
   ]
  },
  {
   "cell_type": "code",
   "execution_count": 6,
   "id": "33d38079",
   "metadata": {},
   "outputs": [],
   "source": [
    "AUTOTUNE = tf.data.experimental.AUTOTUNE\n",
    "def training_preparation(ds):\n",
    "    ds = ds.cache()\n",
    "    ds = ds.prefetch(buffer_size=AUTOTUNE)\n",
    "    return ds\n",
    "\n",
    "train_dataset = training_preparation(train_dataset)\n",
    "validation_dataset = training_preparation(validation_dataset)"
   ]
  },
  {
   "cell_type": "markdown",
   "id": "9ca816f4",
   "metadata": {},
   "source": [
    "## Creation and training of the model"
   ]
  },
  {
   "cell_type": "code",
   "execution_count": 123,
   "id": "fc52aa8c",
   "metadata": {},
   "outputs": [
    {
     "name": "stdout",
     "output_type": "stream",
     "text": [
      "Model: \"model_5\"\n",
      "_________________________________________________________________\n",
      "Layer (type)                 Output Shape              Param #   \n",
      "=================================================================\n",
      "input_6 (InputLayer)         [(None, 150, 150, 1)]     0         \n",
      "_________________________________________________________________\n",
      "conv2d_40 (Conv2D)           (None, 150, 150, 32)      320       \n",
      "_________________________________________________________________\n",
      "conv2d_41 (Conv2D)           (None, 150, 150, 32)      9248      \n",
      "_________________________________________________________________\n",
      "batch_normalization_21 (Batc (None, 150, 150, 32)      128       \n",
      "_________________________________________________________________\n",
      "max_pooling2d_21 (MaxPooling (None, 75, 75, 32)        0         \n",
      "_________________________________________________________________\n",
      "conv2d_42 (Conv2D)           (None, 75, 75, 64)        18496     \n",
      "_________________________________________________________________\n",
      "conv2d_43 (Conv2D)           (None, 75, 75, 64)        36928     \n",
      "_________________________________________________________________\n",
      "batch_normalization_22 (Batc (None, 75, 75, 64)        256       \n",
      "_________________________________________________________________\n",
      "max_pooling2d_22 (MaxPooling (None, 38, 38, 64)        0         \n",
      "_________________________________________________________________\n",
      "conv2d_44 (Conv2D)           (None, 38, 38, 64)        36928     \n",
      "_________________________________________________________________\n",
      "conv2d_45 (Conv2D)           (None, 38, 38, 64)        36928     \n",
      "_________________________________________________________________\n",
      "dropout_16 (Dropout)         (None, 38, 38, 64)        0         \n",
      "_________________________________________________________________\n",
      "batch_normalization_23 (Batc (None, 38, 38, 64)        256       \n",
      "_________________________________________________________________\n",
      "max_pooling2d_23 (MaxPooling (None, 10, 10, 64)        0         \n",
      "_________________________________________________________________\n",
      "conv2d_46 (Conv2D)           (None, 10, 10, 128)       73856     \n",
      "_________________________________________________________________\n",
      "conv2d_47 (Conv2D)           (None, 10, 10, 64)        73792     \n",
      "_________________________________________________________________\n",
      "dropout_17 (Dropout)         (None, 10, 10, 64)        0         \n",
      "_________________________________________________________________\n",
      "batch_normalization_24 (Batc (None, 10, 10, 64)        256       \n",
      "_________________________________________________________________\n",
      "max_pooling2d_24 (MaxPooling (None, 5, 5, 64)          0         \n",
      "_________________________________________________________________\n",
      "flatten_5 (Flatten)          (None, 1600)              0         \n",
      "_________________________________________________________________\n",
      "dense_10 (Dense)             (None, 128)               204928    \n",
      "_________________________________________________________________\n",
      "dropout_18 (Dropout)         (None, 128)               0         \n",
      "_________________________________________________________________\n",
      "dense_11 (Dense)             (None, 1)                 129       \n",
      "=================================================================\n",
      "Total params: 492,449\n",
      "Trainable params: 492,001\n",
      "Non-trainable params: 448\n",
      "_________________________________________________________________\n"
     ]
    }
   ],
   "source": [
    "inputs = Input(shape=(150,150,1))\n",
    "x = Conv2D(32, 3, activation='relu', padding='same')(inputs)\n",
    "x = Conv2D(32, 3, activation='relu', padding='same')(x)\n",
    "x = BatchNormalization()(x)\n",
    "conv1 = MaxPool2D(pool_size=(2, 2), strides = 2, padding='same')(x)\n",
    "\n",
    "x = Conv2D(64, 3, activation='relu', padding='same')(conv1)\n",
    "x = Conv2D(64, 3, activation='relu', padding='same')(x)\n",
    "x = BatchNormalization()(x)\n",
    "conv2 = MaxPool2D(pool_size=(2, 2), strides = 2, padding='same')(x)\n",
    "\n",
    "x = Conv2D(64, 3, activation='relu', padding='same')(conv2)\n",
    "x = Conv2D(64, 3, activation='relu', padding='same')(x)\n",
    "x = Dropout(0.2)(x)\n",
    "x = BatchNormalization()(x)\n",
    "conv3 = MaxPool2D(pool_size=(4, 4), strides = 4, padding='same')(x)\n",
    "\n",
    "x = Conv2D(128, 3, activation='relu', padding='same')(conv3)\n",
    "x = Conv2D(64, 3, activation='relu', padding='same')(x)\n",
    "x = Dropout(0.4)(x)\n",
    "x = BatchNormalization()(x)\n",
    "conv4 = MaxPool2D(pool_size=(2, 2), strides = 2, padding='same')(x)\n",
    "\n",
    "\n",
    "\n",
    "x = Flatten()(conv4)\n",
    "\n",
    "\n",
    "x = Dense(128, activation='relu')(x)\n",
    "x = Dropout(0.2)(x)\n",
    "outputs = Dense(1, activation='sigmoid')(x)\n",
    "mariaunet = Model(inputs, outputs) \n",
    "\n",
    "# Summarize\n",
    "mariaunet.summary()"
   ]
  },
  {
   "cell_type": "code",
   "execution_count": 124,
   "id": "0c3856cd",
   "metadata": {},
   "outputs": [
    {
     "name": "stdout",
     "output_type": "stream",
     "text": [
      "Epoch 1/15\n",
      "261/261 [==============================] - 36s 134ms/step - loss: 0.5392 - accuracy: 0.7814 - val_loss: 5.9235 - val_accuracy: 0.7251\n",
      "Epoch 2/15\n",
      "261/261 [==============================] - 33s 125ms/step - loss: 0.3961 - accuracy: 0.8253 - val_loss: 1.8580 - val_accuracy: 0.7433\n",
      "Epoch 3/15\n",
      "261/261 [==============================] - 32s 123ms/step - loss: 0.3834 - accuracy: 0.8538 - val_loss: 0.9678 - val_accuracy: 0.7701\n",
      "Epoch 4/15\n",
      "261/261 [==============================] - 32s 123ms/step - loss: 0.3531 - accuracy: 0.8562 - val_loss: 0.4051 - val_accuracy: 0.8199\n",
      "Epoch 5/15\n",
      "261/261 [==============================] - 33s 125ms/step - loss: 0.3058 - accuracy: 0.8809 - val_loss: 0.3477 - val_accuracy: 0.8649\n",
      "Epoch 6/15\n",
      "261/261 [==============================] - 32s 123ms/step - loss: 0.2928 - accuracy: 0.8794 - val_loss: 0.2391 - val_accuracy: 0.8956\n",
      "Epoch 7/15\n",
      "261/261 [==============================] - 33s 126ms/step - loss: 0.3011 - accuracy: 0.8885 - val_loss: 0.8024 - val_accuracy: 0.7251\n",
      "Epoch 8/15\n",
      "261/261 [==============================] - 33s 127ms/step - loss: 0.2695 - accuracy: 0.8974 - val_loss: 2.0728 - val_accuracy: 0.3994\n",
      "\n",
      "Epoch 00008: ReduceLROnPlateau reducing learning rate to 0.0003000000142492354.\n",
      "Epoch 9/15\n",
      "261/261 [==============================] - 34s 131ms/step - loss: 0.2310 - accuracy: 0.9202 - val_loss: 0.2750 - val_accuracy: 0.9253\n",
      "Epoch 10/15\n",
      "261/261 [==============================] - 34s 131ms/step - loss: 0.1859 - accuracy: 0.9372 - val_loss: 0.1967 - val_accuracy: 0.9243\n",
      "Epoch 11/15\n",
      "261/261 [==============================] - 35s 133ms/step - loss: 0.2415 - accuracy: 0.9276 - val_loss: 0.2184 - val_accuracy: 0.9138\n",
      "\n",
      "Epoch 00011: ReduceLROnPlateau reducing learning rate to 9.000000427477062e-05.\n",
      "Epoch 12/15\n",
      "261/261 [==============================] - 34s 130ms/step - loss: 0.1883 - accuracy: 0.9367 - val_loss: 0.1802 - val_accuracy: 0.9397\n",
      "Epoch 13/15\n",
      "261/261 [==============================] - 35s 132ms/step - loss: 0.1800 - accuracy: 0.9458 - val_loss: 0.1906 - val_accuracy: 0.9215\n",
      "Epoch 14/15\n",
      "261/261 [==============================] - 34s 128ms/step - loss: 0.1658 - accuracy: 0.9406 - val_loss: 0.1783 - val_accuracy: 0.9282\n",
      "\n",
      "Epoch 00014: ReduceLROnPlateau reducing learning rate to 2.700000040931627e-05.\n",
      "Epoch 15/15\n",
      "261/261 [==============================] - 34s 129ms/step - loss: 0.1816 - accuracy: 0.9442 - val_loss: 0.1810 - val_accuracy: 0.9310\n"
     ]
    }
   ],
   "source": [
    "from tensorflow.keras.callbacks import ReduceLROnPlateau\n",
    "\n",
    "\n",
    "learning_rate_reduction = ReduceLROnPlateau(monitor='val_accuracy', \n",
    "                                            patience = 2, verbose=1,factor=0.3, min_lr=0.000001)\n",
    "mariaunet.compile(optimizer='rmsprop',\n",
    "                  loss='binary_crossentropy',\n",
    "                  metrics=['accuracy',])\n",
    "\n",
    "history = mariaunet.fit(train_generator, epochs=15, validation_data=validation_generator, \n",
    "                        callbacks = [learning_rate_reduction], class_weight=class_weight)"
   ]
  },
  {
   "cell_type": "code",
   "execution_count": 125,
   "id": "d27a99b9",
   "metadata": {},
   "outputs": [
    {
     "data": {
      "image/png": "[encoded data removed]",
      "text/plain": [
       "<Figure size 864x432 with 2 Axes>"
      ]
     },
     "metadata": {
      "needs_background": "light"
     },
     "output_type": "display_data"
    }
   ],
   "source": [
    "import matplotlib.pyplot as plt\n",
    "def plot_history(history):\n",
    "    \"\"\" This helper function takes the tensorflow.python.keras.callbacks.History\n",
    "    that is output from your `fit` method to plot the loss and accuracy of\n",
    "    the training and validation set.\n",
    "    \"\"\"\n",
    "    fig, axs = plt.subplots(1,2, figsize=(12,6))\n",
    "    axs[0].plot(history.history['accuracy'], label='training set')\n",
    "    axs[0].plot(history.history['val_accuracy'], label = 'validation set')\n",
    "    axs[0].set(xlabel = 'Epoch', ylabel='Accuracy', ylim=[0, 1])\n",
    "\n",
    "    axs[1].plot(history.history['loss'], label='training set')\n",
    "    axs[1].plot(history.history['val_loss'], label = 'validation set')\n",
    "    axs[1].set(xlabel = 'Epoch', ylabel='Loss', ylim=[0, 10])\n",
    "    \n",
    "    axs[0].legend(loc='lower right')\n",
    "    axs[1].legend(loc='upper right')\n",
    "    \n",
    "plot_history(history)"
   ]
  },
  {
   "cell_type": "code",
   "execution_count": 117,
   "id": "3a8c2537",
   "metadata": {},
   "outputs": [
    {
     "name": "stdout",
     "output_type": "stream",
     "text": [
      "INFO:tensorflow:Assets written to: mariaunet/assets\n"
     ]
    }
   ],
   "source": [
    "#mariaunet.save('mariaunet')"
   ]
  },
  {
   "cell_type": "markdown",
   "id": "cc6a1776",
   "metadata": {},
   "source": [
    "## Evaluation of the model"
   ]
  },
  {
   "cell_type": "code",
   "execution_count": 129,
   "id": "07193008",
   "metadata": {},
   "outputs": [],
   "source": [
    "#mariaunet = tf.keras.models.load_model('mariaunet')"
   ]
  },
  {
   "cell_type": "code",
   "execution_count": 130,
   "id": "c67f1864",
   "metadata": {},
   "outputs": [
    {
     "name": "stdout",
     "output_type": "stream",
     "text": [
      "20/20 - 1s - loss: 0.3344 - accuracy: 0.9006\n"
     ]
    }
   ],
   "source": [
    "loss, acc = mariaunet.evaluate(X_test, y_test, verbose=2)\n"
   ]
  },
  {
   "cell_type": "code",
   "execution_count": 131,
   "id": "61eb54e6",
   "metadata": {},
   "outputs": [
    {
     "data": {
      "text/plain": [
       "array([[384,   6],\n",
       "       [ 56, 178]])"
      ]
     },
     "execution_count": 131,
     "metadata": {},
     "output_type": "execute_result"
    }
   ],
   "source": [
    "from sklearn.metrics import confusion_matrix\n",
    "\n",
    "\n",
    "preds = mariaunet.predict(X_test, batch_size=16)\n",
    "confusion_matrix(y_test, np.where(preds>0.5, 1,0))\n"
   ]
  },
  {
   "cell_type": "code",
   "execution_count": 132,
   "id": "38a51644",
   "metadata": {},
   "outputs": [
    {
     "name": "stdout",
     "output_type": "stream",
     "text": [
      "Precision: 0.8727272727272727, Recall: 0.9846153846153847\n"
     ]
    }
   ],
   "source": [
    "confusion = confusion_matrix(y_test, np.where(preds>.5, 1,0))\n",
    "pre = confusion[0][0]/(confusion[0][0]+confusion[1][0])\n",
    "rec = confusion[0][0]/(confusion[0][0]+confusion[0][1])\n",
    "print(f'Precision: {pre}, Recall: {rec}')"
   ]
  },
  {
   "cell_type": "code",
   "execution_count": 148,
   "id": "f635fbe6",
   "metadata": {},
   "outputs": [
    {
     "data": {
      "image/png": "[encoded data removed]",
      "text/plain": [
       "<Figure size 432x288 with 1 Axes>"
      ]
     },
     "metadata": {
      "needs_background": "light"
     },
     "output_type": "display_data"
    }
   ],
   "source": [
    "import seaborn as sns\n",
    "\n",
    "categories = ['Pneumonia', 'Normal']\n",
    "plt.title('Confusion Matrix')\n",
    "sns.heatmap(confusion, annot=True, \n",
    "            cbar=False, xticklabels=categories, \n",
    "            yticklabels=categories,fmt='g')\n",
    "plt.ylabel('True Label')\n",
    "plt.xlabel('Predicted Label')\n",
    "plt.show()  "
   ]
  },
  {
   "cell_type": "code",
   "execution_count": 162,
   "id": "6f13067d",
   "metadata": {},
   "outputs": [
    {
     "data": {
      "text/plain": [
       "array([[0.16787617]], dtype=float32)"
      ]
     },
     "execution_count": 162,
     "metadata": {},
     "output_type": "execute_result"
    }
   ],
   "source": [
    "test_img = preprocessing(\"chest_xray/test/PNEUMONIA/person22_virus_55.jpeg\", img_size=im_size)\n",
    "test_img = test_img.reshape(1,150,150,1)\n",
    "mariaunet.predict(test_img)"
   ]
  },
  {
   "cell_type": "code",
   "execution_count": null,
   "id": "3fdc18d4",
   "metadata": {},
   "outputs": [],
   "source": []
  }
 ],
 "metadata": {
  "kernelspec": {
   "display_name": "Python 3.8.5 64-bit ('anaconda3': virtualenv)",
   "language": "python",
   "name": "python385jvsc74a57bd09977e029b2da6177bb9bc7be3b4cc732c21fce726b7c7753acdf2f8f3db06ed7"
  },
  "language_info": {
   "codemirror_mode": {
    "name": "ipython",
    "version": 3
   },
   "file_extension": ".py",
   "mimetype": "text/x-python",
   "name": "python",
   "nbconvert_exporter": "python",
   "pygments_lexer": "ipython3",
   "version": "3.8.5"
  }
 },
 "nbformat": 4,
 "nbformat_minor": 5
}
